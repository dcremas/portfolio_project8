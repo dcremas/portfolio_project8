{
 "cells": [
  {
   "cell_type": "code",
   "execution_count": 6,
   "id": "77a3539d-7c59-4b3d-a757-5e0336ae48b9",
   "metadata": {},
   "outputs": [],
   "source": [
    "from sqlalchemy import create_engine\n",
    "from sqlalchemy.sql import text\n",
    "import pandas as pd\n",
    "from shared_funcs import db_connect_url\n"
   ]
  },
  {
   "cell_type": "code",
   "execution_count": 13,
   "id": "24637769-0e34-456a-bf3e-13b8aa335dab",
   "metadata": {},
   "outputs": [
    {
     "name": "stdout",
     "output_type": "stream",
     "text": [
      "2023-09-12 11:09:29,038 INFO sqlalchemy.engine.Engine select pg_catalog.version()\n",
      "2023-09-12 11:09:29,039 INFO sqlalchemy.engine.Engine [raw sql] {}\n",
      "2023-09-12 11:09:29,041 INFO sqlalchemy.engine.Engine select current_schema()\n",
      "2023-09-12 11:09:29,042 INFO sqlalchemy.engine.Engine [raw sql] {}\n",
      "2023-09-12 11:09:29,044 INFO sqlalchemy.engine.Engine show standard_conforming_strings\n",
      "2023-09-12 11:09:29,045 INFO sqlalchemy.engine.Engine [raw sql] {}\n",
      "2023-09-12 11:09:29,051 INFO sqlalchemy.engine.Engine BEGIN (implicit)\n",
      "2023-09-12 11:09:29,052 INFO sqlalchemy.engine.Engine SELECT pg_catalog.pg_class.relname \n",
      "FROM pg_catalog.pg_class JOIN pg_catalog.pg_namespace ON pg_catalog.pg_namespace.oid = pg_catalog.pg_class.relnamespace \n",
      "WHERE pg_catalog.pg_class.relname = %(table_name)s::VARCHAR AND pg_catalog.pg_class.relkind = ANY (ARRAY[%(param_1)s::VARCHAR, %(param_2)s::VARCHAR, %(param_3)s::VARCHAR, %(param_4)s::VARCHAR, %(param_5)s::VARCHAR]) AND pg_catalog.pg_table_is_visible(pg_catalog.pg_class.oid) AND pg_catalog.pg_namespace.nspname != %(nspname_1)s::VARCHAR\n",
      "2023-09-12 11:09:29,053 INFO sqlalchemy.engine.Engine [generated in 0.00131s] {'table_name': <sqlalchemy.sql.elements.TextClause object at 0x1248a7a90>, 'param_1': 'r', 'param_2': 'p', 'param_3': 'f', 'param_4': 'v', 'param_5': 'm', 'nspname_1': 'pg_catalog'}\n",
      "2023-09-12 11:09:29,054 INFO sqlalchemy.engine.Engine WITH bike_data_daily AS (\n",
      "\tSELECT\n",
      "\t\tDATE(start_time),\n",
      "\t\tCOUNT(record_id) AS record_count\n",
      "\tFROM bike_data\n",
      "\tGROUP BY 1\n",
      "),\n",
      "\n",
      "weather_data_classify AS (\n",
      "\tSELECT\n",
      "\t\tdate,\n",
      "\t\ttemperature_max,\n",
      "\t\tCASE\n",
      "\t\t\tWHEN temperature_max <= 20 THEN '01 -> Max Temp Below 21 deg. F'\n",
      "\t\t\tWHEN temperature_max <= 30 THEN '02 -> Max Temp Between 21 and 30 deg. F'\n",
      "\t\t\tWHEN temperature_max <= 40 THEN '03 -> Max Temp Between 31 and 40 deg. F'\n",
      "\t\t\tWHEN temperature_max <= 50 THEN '04 -> Max Temp Between 41 and 50 deg. F'\t\n",
      "\t\t\tWHEN temperature_max <= 60 THEN '05 -> Max Temp Between 51 and 60 deg. F'\n",
      "\t\t\tWHEN temperature_max <= 70 THEN '06 -> Max Temp Between 61 and 70 deg. F'\n",
      "\t\t\tWHEN temperature_max <= 80 THEN '07 -> Max Temp Between 71 and 80 deg. F'\n",
      "\t\t\tWHEN temperature_max <= 90 THEN '08 -> Max Temp Between 81 and 90 deg. F'\n",
      "\t\t\tWHEN temperature_max <= 100 THEN '09 -> Max Temp Between 91 and 100 deg. F'\t\n",
      "\t\t\tELSE '10 -> Max Temp Greater than 100 deg. F'\n",
      "\t\tEND AS temperature_classify\n",
      "\tFROM weather_data\n",
      "),\n",
      "\n",
      "combine_daily AS (\n",
      "\tSELECT\n",
      "\t\twd.date,\n",
      "\t\tbd.record_count,\n",
      "\t\twd.temperature_max,\n",
      "\t\twd.temperature_classify\n",
      "\tFROM weather_data_classify wd\n",
      "\tLEFT JOIN bike_data_daily bd\n",
      "\t\tON wd.date = bd.date\n",
      "\tORDER BY 1\n",
      ")\n",
      "\n",
      "SELECT\n",
      "\ttemperature_classify,\n",
      "\tCOUNT(date) AS number_of_days,\n",
      "\tROUND(AVG(record_count), 1) avg_daily_rentals\n",
      "FROM combine_daily\n",
      "GROUP BY 1\n",
      "ORDER BY 1;\n",
      "2023-09-12 11:09:29,055 INFO sqlalchemy.engine.Engine [generated in 0.00064s] {}\n",
      "9\n",
      "|    | temperature_classify                     |   number_of_days |   avg_daily_rentals |\n",
      "|---:|:-----------------------------------------|-----------------:|--------------------:|\n",
      "|  0 | 01 -> Max Temp Below 21 deg. F           |                1 |                60   |\n",
      "|  1 | 02 -> Max Temp Between 21 and 30 deg. F  |                6 |               257.8 |\n",
      "|  2 | 03 -> Max Temp Between 31 and 40 deg. F  |               26 |               317.1 |\n",
      "|  3 | 04 -> Max Temp Between 41 and 50 deg. F  |               54 |               384.7 |\n",
      "|  4 | 05 -> Max Temp Between 51 and 60 deg. F  |               57 |               511   |\n",
      "|  5 | 06 -> Max Temp Between 61 and 70 deg. F  |               63 |               679.7 |\n",
      "|  6 | 07 -> Max Temp Between 71 and 80 deg. F  |               53 |               870.8 |\n",
      "|  7 | 08 -> Max Temp Between 81 and 90 deg. F  |               72 |               956.9 |\n",
      "|  8 | 09 -> Max Temp Between 91 and 100 deg. F |               34 |               918.6 |\n"
     ]
    }
   ],
   "source": [
    "url = db_connect_url('portfolio_bikedata')\n",
    "engine = create_engine(url=url, pool_recycle=3600, echo=True)\n",
    "\n",
    "with open(\"sql_scripts/temperature_impact.sql\", \"r\") as sql_read:\n",
    "    statement = text(sql_read.read())\n",
    "\n",
    "df = pd.read_sql(statement, engine.connect())\n",
    "\n",
    "print(len(df))\n",
    "print(df.to_markdown())\n"
   ]
  },
  {
   "cell_type": "code",
   "execution_count": null,
   "id": "7f5aa800-6ad0-4579-9e7b-102f5fbdc3e4",
   "metadata": {},
   "outputs": [],
   "source": []
  }
 ],
 "metadata": {
  "kernelspec": {
   "display_name": "Python 3 (ipykernel)",
   "language": "python",
   "name": "python3"
  },
  "language_info": {
   "codemirror_mode": {
    "name": "ipython",
    "version": 3
   },
   "file_extension": ".py",
   "mimetype": "text/x-python",
   "name": "python",
   "nbconvert_exporter": "python",
   "pygments_lexer": "ipython3",
   "version": "3.10.9"
  }
 },
 "nbformat": 4,
 "nbformat_minor": 5
}
